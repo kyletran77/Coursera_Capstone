{
  "nbformat": 4,
  "nbformat_minor": 0,
  "metadata": {
    "colab": {
      "name": "DATA AUG SAMPLE COVID detection with 146",
      "provenance": [],
      "collapsed_sections": [],
      "mount_file_id": "1J6YWPqQfhRy-xh3S4dU55xBnwjr-6xGO",
      "authorship_tag": "ABX9TyObibScE97FTvz3GVsHkMwe",
      "include_colab_link": true
    },
    "kernelspec": {
      "name": "python3",
      "display_name": "Python 3"
    },
    "accelerator": "GPU"
  },
  "cells": [
    {
      "cell_type": "markdown",
      "metadata": {
        "id": "view-in-github",
        "colab_type": "text"
      },
      "source": [
        "<a href=\"https://colab.research.google.com/github/kyletran77/Coursera_Capstone/blob/master/DATA_AUG_SAMPLE_COVID_detection_with_146.ipynb\" target=\"_parent\"><img src=\"https://colab.research.google.com/assets/colab-badge.svg\" alt=\"Open In Colab\"/></a>"
      ]
    },
    {
      "cell_type": "markdown",
      "metadata": {
        "id": "-HXmJCXgkHTP"
      },
      "source": [
        "Import the libraries\n",
        "\n"
      ]
    },
    {
      "cell_type": "code",
      "metadata": {
        "id": "SJ0QPDwOgQYY",
        "colab": {
          "base_uri": "https://localhost:8080/",
          "height": 34
        },
        "outputId": "eec38f03-ccda-4edc-c5db-ba372acfa483"
      },
      "source": [
        "from keras.preprocessing.image import ImageDataGenerator, load_img \n",
        "from keras.models import Sequential \n",
        "from keras.layers import Conv2D, MaxPooling2D \n",
        "from keras.layers import Activation, Dropout, Flatten, Dense \n",
        "from keras import backend as K  \n",
        "import os \n",
        "import cv2\n",
        "import numpy as np \n",
        "import pandas as pd  \n",
        "import matplotlib.pyplot as plt \n",
        "%matplotlib inline"
      ],
      "execution_count": null,
      "outputs": [
        {
          "output_type": "stream",
          "text": [
            "Using TensorFlow backend.\n"
          ],
          "name": "stderr"
        }
      ]
    },
    {
      "cell_type": "code",
      "metadata": {
        "id": "pcRmUz2eh-Q0"
      },
      "source": [
        "#!pip uninstall tensorflow-2.2"
      ],
      "execution_count": null,
      "outputs": []
    },
    {
      "cell_type": "code",
      "metadata": {
        "id": "i6AoVdFuiCMK"
      },
      "source": [
        "#!pip install tensorflow==1.14"
      ],
      "execution_count": null,
      "outputs": []
    },
    {
      "cell_type": "markdown",
      "metadata": {
        "id": "_REvHcW1TFCV"
      },
      "source": [
        "Kaggle Dataset with only 146 entries"
      ]
    },
    {
      "cell_type": "code",
      "metadata": {
        "id": "y1gqs8SPckEm"
      },
      "source": [
        "CSVMETA = '/content/drive/My Drive/covid-chest-xray/metadata.csv'\n",
        "pd.set_option(\"display.max_rows\", None)"
      ],
      "execution_count": null,
      "outputs": []
    },
    {
      "cell_type": "code",
      "metadata": {
        "id": "8a4tAlRdd5im",
        "colab": {
          "base_uri": "https://localhost:8080/",
          "height": 204
        },
        "outputId": "34a7073c-6037-45b3-a968-0eee2cab9a31"
      },
      "source": [
        "meta = pd.read_csv(CSVMETA)\n",
        "meta = meta[['finding', 'filename']]\n",
        "meta.head(\n",
        "          )"
      ],
      "execution_count": null,
      "outputs": [
        {
          "output_type": "execute_result",
          "data": {
            "text/html": [
              "<div>\n",
              "<style scoped>\n",
              "    .dataframe tbody tr th:only-of-type {\n",
              "        vertical-align: middle;\n",
              "    }\n",
              "\n",
              "    .dataframe tbody tr th {\n",
              "        vertical-align: top;\n",
              "    }\n",
              "\n",
              "    .dataframe thead th {\n",
              "        text-align: right;\n",
              "    }\n",
              "</style>\n",
              "<table border=\"1\" class=\"dataframe\">\n",
              "  <thead>\n",
              "    <tr style=\"text-align: right;\">\n",
              "      <th></th>\n",
              "      <th>finding</th>\n",
              "      <th>filename</th>\n",
              "    </tr>\n",
              "  </thead>\n",
              "  <tbody>\n",
              "    <tr>\n",
              "      <th>0</th>\n",
              "      <td>COVID-19</td>\n",
              "      <td>auntminnie-a-2020_01_28_23_51_6665_2020_01_28_...</td>\n",
              "    </tr>\n",
              "    <tr>\n",
              "      <th>1</th>\n",
              "      <td>COVID-19</td>\n",
              "      <td>auntminnie-b-2020_01_28_23_51_6665_2020_01_28_...</td>\n",
              "    </tr>\n",
              "    <tr>\n",
              "      <th>2</th>\n",
              "      <td>COVID-19</td>\n",
              "      <td>auntminnie-c-2020_01_28_23_51_6665_2020_01_28_...</td>\n",
              "    </tr>\n",
              "    <tr>\n",
              "      <th>3</th>\n",
              "      <td>COVID-19</td>\n",
              "      <td>auntminnie-d-2020_01_28_23_51_6665_2020_01_28_...</td>\n",
              "    </tr>\n",
              "    <tr>\n",
              "      <th>4</th>\n",
              "      <td>COVID-19</td>\n",
              "      <td>nejmc2001573_f1a.jpeg</td>\n",
              "    </tr>\n",
              "  </tbody>\n",
              "</table>\n",
              "</div>"
            ],
            "text/plain": [
              "    finding                                           filename\n",
              "0  COVID-19  auntminnie-a-2020_01_28_23_51_6665_2020_01_28_...\n",
              "1  COVID-19  auntminnie-b-2020_01_28_23_51_6665_2020_01_28_...\n",
              "2  COVID-19  auntminnie-c-2020_01_28_23_51_6665_2020_01_28_...\n",
              "3  COVID-19  auntminnie-d-2020_01_28_23_51_6665_2020_01_28_...\n",
              "4  COVID-19                              nejmc2001573_f1a.jpeg"
            ]
          },
          "metadata": {
            "tags": []
          },
          "execution_count": 5
        }
      ]
    },
    {
      "cell_type": "code",
      "metadata": {
        "id": "uo3jbRweTJTd"
      },
      "source": [
        " labels = ['No Finding','COVID-19', 'Pneumonia']\n"
      ],
      "execution_count": null,
      "outputs": []
    },
    {
      "cell_type": "code",
      "metadata": {
        "id": "mHRQB4T2P53J",
        "colab": {
          "base_uri": "https://localhost:8080/",
          "height": 204
        },
        "outputId": "b9bed74e-0aa0-47be-aee8-890c5c862373"
      },
      "source": [
        "meta.loc[(meta.finding == 'ARDS'),'finding']='Pneumonia'\n",
        "meta.loc[(meta.finding == 'Pneumocystis'),'finding']='Pneumonia'\n",
        "meta.loc[(meta.finding == 'Streptococcus'),'finding']='Pneumonia'\n",
        "meta.loc[(meta.finding == 'SARS'),'finding']='Pneumonia'\n",
        "\n",
        "\n",
        "meta.head(\n",
        "          )\n",
        "    "
      ],
      "execution_count": null,
      "outputs": [
        {
          "output_type": "execute_result",
          "data": {
            "text/html": [
              "<div>\n",
              "<style scoped>\n",
              "    .dataframe tbody tr th:only-of-type {\n",
              "        vertical-align: middle;\n",
              "    }\n",
              "\n",
              "    .dataframe tbody tr th {\n",
              "        vertical-align: top;\n",
              "    }\n",
              "\n",
              "    .dataframe thead th {\n",
              "        text-align: right;\n",
              "    }\n",
              "</style>\n",
              "<table border=\"1\" class=\"dataframe\">\n",
              "  <thead>\n",
              "    <tr style=\"text-align: right;\">\n",
              "      <th></th>\n",
              "      <th>finding</th>\n",
              "      <th>filename</th>\n",
              "    </tr>\n",
              "  </thead>\n",
              "  <tbody>\n",
              "    <tr>\n",
              "      <th>0</th>\n",
              "      <td>COVID-19</td>\n",
              "      <td>auntminnie-a-2020_01_28_23_51_6665_2020_01_28_...</td>\n",
              "    </tr>\n",
              "    <tr>\n",
              "      <th>1</th>\n",
              "      <td>COVID-19</td>\n",
              "      <td>auntminnie-b-2020_01_28_23_51_6665_2020_01_28_...</td>\n",
              "    </tr>\n",
              "    <tr>\n",
              "      <th>2</th>\n",
              "      <td>COVID-19</td>\n",
              "      <td>auntminnie-c-2020_01_28_23_51_6665_2020_01_28_...</td>\n",
              "    </tr>\n",
              "    <tr>\n",
              "      <th>3</th>\n",
              "      <td>COVID-19</td>\n",
              "      <td>auntminnie-d-2020_01_28_23_51_6665_2020_01_28_...</td>\n",
              "    </tr>\n",
              "    <tr>\n",
              "      <th>4</th>\n",
              "      <td>COVID-19</td>\n",
              "      <td>nejmc2001573_f1a.jpeg</td>\n",
              "    </tr>\n",
              "  </tbody>\n",
              "</table>\n",
              "</div>"
            ],
            "text/plain": [
              "    finding                                           filename\n",
              "0  COVID-19  auntminnie-a-2020_01_28_23_51_6665_2020_01_28_...\n",
              "1  COVID-19  auntminnie-b-2020_01_28_23_51_6665_2020_01_28_...\n",
              "2  COVID-19  auntminnie-c-2020_01_28_23_51_6665_2020_01_28_...\n",
              "3  COVID-19  auntminnie-d-2020_01_28_23_51_6665_2020_01_28_...\n",
              "4  COVID-19                              nejmc2001573_f1a.jpeg"
            ]
          },
          "metadata": {
            "tags": []
          },
          "execution_count": 7
        }
      ]
    },
    {
      "cell_type": "markdown",
      "metadata": {
        "id": "bXYbxM8t0Tdg"
      },
      "source": [
        "1.rename the new dataset to filename\n",
        "\n",
        "2.put the images in the same folder this way it can draw easily\n",
        "\n",
        "3.join the datasets together\n"
      ]
    },
    {
      "cell_type": "markdown",
      "metadata": {
        "id": "oX28-UjpgiYu"
      },
      "source": [
        "Visulize the example of how the filename from the dataset is being connected to the image names.  This allows the connection to be plotted on matplotlib after creating the array."
      ]
    },
    {
      "cell_type": "code",
      "metadata": {
        "id": "rVV5fM_7f04Y",
        "colab": {
          "base_uri": "https://localhost:8080/",
          "height": 269
        },
        "outputId": "fbe03a69-b35d-4efe-a1b8-c4891e3d14e0"
      },
      "source": [
        "DATAXRAY = '/content/drive/My Drive/covid-chest-xray'\n",
        "imagedf = meta['filename']\n",
        "categories = ['images']\n",
        "for imagefile in categories:\n",
        "  path = os.path.join(DATAXRAY, imagefile)\n",
        "  for img in imagedf:\n",
        "    img_array = cv2.imread(os.path.join(path, img), cv2.IMREAD_GRAYSCALE)\n",
        "    plt.imshow(img_array, cmap = 'gray')\n",
        "    plt.show()\n",
        "    break\n",
        "  break\n",
        "\n",
        "  \n",
        "#strepthroat bacteria\n",
        "#ecoli bacteria\n",
        "#bacteria\n",
        "\n"
      ],
      "execution_count": null,
      "outputs": [
        {
          "output_type": "display_data",
          "data": {
            "image/png": "[encoded data removed]",
            "text/plain": [
              "<Figure size 432x288 with 1 Axes>"
            ]
          },
          "metadata": {
            "tags": [],
            "needs_background": "light"
          }
        }
      ]
    },
    {
      "cell_type": "code",
      "metadata": {
        "id": "XAXya3-c224A",
        "colab": {
          "base_uri": "https://localhost:8080/",
          "height": 136
        },
        "outputId": "b36a6bac-193c-47cf-d9bd-e10a9265f713"
      },
      "source": [
        "print(img_array)"
      ],
      "execution_count": null,
      "outputs": [
        {
          "output_type": "stream",
          "text": [
            "[[255 254 253 ...  70  69  69]\n",
            " [255 255 254 ...  67  67  67]\n",
            " [255 255 254 ...  66  65  65]\n",
            " ...\n",
            " [255 255 250 ... 107 109 110]\n",
            " [255 255 250 ...  97  98  98]\n",
            " [255 255 250 ...  74  75  76]]\n"
          ],
          "name": "stdout"
        }
      ]
    },
    {
      "cell_type": "code",
      "metadata": {
        "id": "Q0mjFyE229mh",
        "colab": {
          "base_uri": "https://localhost:8080/",
          "height": 269
        },
        "outputId": "9019c4e5-bbb5-42ac-83fa-83f2d9693902"
      },
      "source": [
        "IMG_SIZE = 150\n",
        "new_array = cv2.resize(img_array,(IMG_SIZE, IMG_SIZE))\n",
        "plt.imshow(new_array,cmap = 'gray')\n",
        "plt.show()"
      ],
      "execution_count": null,
      "outputs": [
        {
          "output_type": "display_data",
          "data": {
            "image/png": "[encoded data removed]",
            "text/plain": [
              "<Figure size 432x288 with 1 Axes>"
            ]
          },
          "metadata": {
            "tags": [],
            "needs_background": "light"
          }
        }
      ]
    },
    {
      "cell_type": "markdown",
      "metadata": {
        "id": "ybKDjTjiTbZs"
      },
      "source": [
        "This is a super simple augmentation from augmenters to see how much data we can simulate just from doing simple transformations."
      ]
    },
    {
      "cell_type": "code",
      "metadata": {
        "id": "ytIr2PZLGMdg"
      },
      "source": [
        "import imgaug as ia\n",
        "import imgaug.augmenters as iaa\n",
        "seq = iaa.Sequential([\n",
        "    iaa.Crop(px=(1, 16), keep_size=False),\n",
        "    iaa.Fliplr(0.5),\n",
        "    iaa.GaussianBlur(sigma=(0, 3.0))\n",
        "])\n"
      ],
      "execution_count": null,
      "outputs": []
    },
    {
      "cell_type": "code",
      "metadata": {
        "id": "9ORBYe_pG5Ap"
      },
      "source": [
        "training_data =[]\n",
        "def augmented_data():\n",
        "  for imagefile in categories:\n",
        "    path = os.path.join(DATAXRAY, imagefile)\n",
        "    for img in imagedf:\n",
        "        Class_num = labels.index(meta['finding'][meta.loc[meta['filename'] == (img)].index[0]])\n",
        "        img_array = cv2.imread(os.path.join(path, img))\n",
        "        new_array = np.array(cv2.resize(img_array,(IMG_SIZE, IMG_SIZE)))\n",
        "        #images_aug = seq(images=new_array)\n",
        "        #for aug in images_aug:\n",
        "        training_data.append([new_array, Class_num])\n",
        "      \n",
        "\n",
        "augmented_data()"
      ],
      "execution_count": null,
      "outputs": []
    },
    {
      "cell_type": "code",
      "metadata": {
        "id": "zyxldXZmJd-i",
        "colab": {
          "base_uri": "https://localhost:8080/",
          "height": 34
        },
        "outputId": "3c55661c-b64b-4e04-aa6e-13c758cfb36d"
      },
      "source": [
        "print(len(training_data))"
      ],
      "execution_count": null,
      "outputs": [
        {
          "output_type": "stream",
          "text": [
            "146\n"
          ],
          "name": "stdout"
        }
      ]
    },
    {
      "cell_type": "code",
      "metadata": {
        "id": "0OsDIsPT5TJE"
      },
      "source": [
        "import random\n",
        "random.shuffle(training_data)"
      ],
      "execution_count": null,
      "outputs": []
    },
    {
      "cell_type": "code",
      "metadata": {
        "id": "JhsGKNtt5gcC",
        "colab": {
          "base_uri": "https://localhost:8080/",
          "height": 187
        },
        "outputId": "612da452-d7e9-4f85-fcfc-b53a5ff85994"
      },
      "source": [
        "for sample in training_data[:10]:\n",
        "  print(sample[1])"
      ],
      "execution_count": null,
      "outputs": [
        {
          "output_type": "stream",
          "text": [
            "1\n",
            "1\n",
            "1\n",
            "1\n",
            "1\n",
            "1\n",
            "1\n",
            "1\n",
            "1\n",
            "1\n"
          ],
          "name": "stdout"
        }
      ]
    },
    {
      "cell_type": "code",
      "metadata": {
        "id": "_nRZ0XEtfm_n"
      },
      "source": [
        "Data =[]\n",
        "label=[]"
      ],
      "execution_count": null,
      "outputs": []
    },
    {
      "cell_type": "code",
      "metadata": {
        "id": "Y5MRlrd0fgQN"
      },
      "source": [
        "for features, labels in training_data:\n",
        "  Data.append(features)\n",
        "  label.append(labels)\n"
      ],
      "execution_count": null,
      "outputs": []
    },
    {
      "cell_type": "code",
      "metadata": {
        "id": "LCvBYiNfhQxv",
        "colab": {
          "base_uri": "https://localhost:8080/",
          "height": 396
        },
        "outputId": "b81a4f8f-170e-45c7-c5d1-c51bee3a8742"
      },
      "source": [
        "!pip install keras-resnet"
      ],
      "execution_count": null,
      "outputs": [
        {
          "output_type": "stream",
          "text": [
            "Collecting keras-resnet\n",
            "  Downloading https://files.pythonhosted.org/packages/76/d4/a35cbd07381139dda4db42c81b88c59254faac026109022727b45b31bcad/keras-resnet-0.2.0.tar.gz\n",
            "Requirement already satisfied: keras>=2.2.4 in /usr/local/lib/python3.6/dist-packages (from keras-resnet) (2.3.1)\n",
            "Requirement already satisfied: scipy>=0.14 in /usr/local/lib/python3.6/dist-packages (from keras>=2.2.4->keras-resnet) (1.4.1)\n",
            "Requirement already satisfied: keras-preprocessing>=1.0.5 in /usr/local/lib/python3.6/dist-packages (from keras>=2.2.4->keras-resnet) (1.1.0)\n",
            "Requirement already satisfied: h5py in /usr/local/lib/python3.6/dist-packages (from keras>=2.2.4->keras-resnet) (2.10.0)\n",
            "Requirement already satisfied: six>=1.9.0 in /usr/local/lib/python3.6/dist-packages (from keras>=2.2.4->keras-resnet) (1.12.0)\n",
            "Requirement already satisfied: numpy>=1.9.1 in /usr/local/lib/python3.6/dist-packages (from keras>=2.2.4->keras-resnet) (1.18.2)\n",
            "Requirement already satisfied: keras-applications>=1.0.6 in /usr/local/lib/python3.6/dist-packages (from keras>=2.2.4->keras-resnet) (1.0.8)\n",
            "Requirement already satisfied: pyyaml in /usr/local/lib/python3.6/dist-packages (from keras>=2.2.4->keras-resnet) (3.13)\n",
            "Building wheels for collected packages: keras-resnet\n",
            "  Building wheel for keras-resnet (setup.py) ... \u001b[?25l\u001b[?25hdone\n",
            "  Created wheel for keras-resnet: filename=keras_resnet-0.2.0-py2.py3-none-any.whl size=20487 sha256=53c98735d0c86ae67e43e6ec824d29e5af63d04f6369cb8db8daf1dff2023915\n",
            "  Stored in directory: /root/.cache/pip/wheels/5f/09/a5/497a30fd9ad9964e98a1254d1e164bcd1b8a5eda36197ecb3c\n",
            "Successfully built keras-resnet\n",
            "Installing collected packages: keras-resnet\n",
            "Successfully installed keras-resnet-0.2.0\n"
          ],
          "name": "stdout"
        }
      ]
    },
    {
      "cell_type": "code",
      "metadata": {
        "id": "kf-lRfPCe-Gz"
      },
      "source": [
        "from keras_resnet.models import ResNet\n",
        "from sklearn.preprocessing import LabelEncoder\n",
        "from sklearn.model_selection import train_test_split\n",
        "from sklearn.metrics import classification_report\n",
        "from keras.preprocessing.image import ImageDataGenerator\n",
        "from keras.optimizers import SGD\n",
        "from keras.utils import np_utils\n",
        "from imutils import paths\n",
        "import matplotlib.pyplot as plt\n",
        "import numpy as np\n",
        "import argparse\n",
        "import cv2\n",
        "import os"
      ],
      "execution_count": null,
      "outputs": []
    },
    {
      "cell_type": "code",
      "metadata": {
        "id": "lcG_hYf6-4cC",
        "colab": {
          "base_uri": "https://localhost:8080/",
          "height": 74
        },
        "outputId": "42ebc2b6-75a7-4ddc-e2bc-f00ee5a62ae7"
      },
      "source": [
        "print(label\n",
        "      )"
      ],
      "execution_count": null,
      "outputs": [
        {
          "output_type": "stream",
          "text": [
            "[1, 1, 1, 1, 1, 1, 1, 1, 1, 1, 1, 1, 2, 1, 1, 1, 1, 1, 1, 1, 1, 1, 1, 1, 2, 1, 1, 1, 1, 2, 1, 2, 1, 1, 1, 1, 1, 2, 1, 1, 2, 0, 1, 1, 1, 1, 1, 1, 2, 1, 1, 1, 1, 1, 1, 1, 1, 2, 1, 2, 1, 2, 2, 1, 1, 1, 1, 1, 1, 1, 1, 1, 1, 1, 1, 1, 1, 1, 1, 1, 1, 2, 1, 1, 1, 1, 1, 1, 1, 1, 2, 1, 1, 1, 1, 1, 1, 1, 2, 1, 1, 2, 1, 0, 1, 1, 1, 1, 1, 1, 1, 1, 1, 1, 2, 2, 2, 1, 1, 2, 2, 1, 1, 1, 2, 1, 1, 1, 1, 1, 1, 1, 1, 1, 2, 1, 1, 2, 1, 1, 1, 1, 1, 1, 1, 1]\n"
          ],
          "name": "stdout"
        }
      ]
    },
    {
      "cell_type": "code",
      "metadata": {
        "id": "K6E-cWyABYSD"
      },
      "source": [
        "INIT_LR = 1e-1\n",
        "BS = 10\n",
        "EPOCHS = 50"
      ],
      "execution_count": null,
      "outputs": []
    },
    {
      "cell_type": "code",
      "metadata": {
        "id": "ceRBb2ROkD3w"
      },
      "source": [
        "Data= np.array(Data,dtype = 'float') /255.0\n",
        "\n",
        "le = LabelEncoder()\n",
        "label = le.fit_transform(label)\n",
        "label = np_utils.to_categorical(label, 3)\n",
        "\n",
        "(trainX, testX, trainy, testy) = train_test_split(Data, label, test_size = 0.1, random_state = 42)"
      ],
      "execution_count": null,
      "outputs": []
    },
    {
      "cell_type": "code",
      "metadata": {
        "id": "9TKGdgODRKB9"
      },
      "source": [
        "aug = ImageDataGenerator()"
      ],
      "execution_count": null,
      "outputs": []
    },
    {
      "cell_type": "code",
      "metadata": {
        "id": "JiqsywmtEygk"
      },
      "source": [
        "\n",
        "aug = ImageDataGenerator(rotation_range = 20,\n",
        "                         width_shift_range =20,\n",
        "                         height_shift_range = 0.2,\n",
        "                               shear_range =0.2,\n",
        "                               zoom_range = 0.2,\n",
        "                               horizontal_flip = True, fill_mode ='nearest')"
      ],
      "execution_count": null,
      "outputs": []
    },
    {
      "cell_type": "code",
      "metadata": {
        "id": "vHZk06R_OsF6"
      },
      "source": [
        "from keras.layers import Input, Add, Dense, Activation, ZeroPadding2D, BatchNormalization, Flatten, Conv2D, AveragePooling2D, MaxPooling2D, GlobalMaxPooling2D\n",
        "from keras.initializers import glorot_uniform"
      ],
      "execution_count": null,
      "outputs": []
    },
    {
      "cell_type": "code",
      "metadata": {
        "id": "8MkeT2S0LxnY"
      },
      "source": [
        "\n",
        "model = Sequential()\n",
        "\n",
        "model.add(Conv2D(16, (3,3), activation = 'relu', data_format = 'channels_last',input_shape = (IMG_SIZE, IMG_SIZE, 3)))\n",
        "model.add(MaxPooling2D(pool_size = (2,2)))\n",
        "\n",
        "model.add(Conv2D((34), (3,3), activation = 'relu'))\n",
        "model.add(MaxPooling2D(pool_size = (2,2)))\n",
        "\n",
        "model.add(Flatten())\n",
        "model.add(Dropout(0.5))\n",
        "model.add(Dense(activation = 'relu', units = 128))\n",
        "model.add(Dense(activation = 'softmax', units = 3))\n",
        "\n",
        "model.compile(loss = 'categorical_crossentropy',\n",
        "              optimizer = 'adam',\n",
        "              metrics = ['accuracy'])\n",
        "\n"
      ],
      "execution_count": null,
      "outputs": []
    },
    {
      "cell_type": "code",
      "metadata": {
        "id": "kMv8oJjSZBh_"
      },
      "source": [
        "\n",
        "class_weight = { 1 : 0.05,\n",
        "                0 : 0.8, 2: 0.15}\n",
        "\n"
      ],
      "execution_count": null,
      "outputs": []
    },
    {
      "cell_type": "code",
      "metadata": {
        "id": "Rym3lIfbf9fA",
        "colab": {
          "base_uri": "https://localhost:8080/",
          "height": 1000
        },
        "outputId": "ce6ad681-8951-4e9c-80c6-0e7aae8f1b00"
      },
      "source": [
        "\n",
        "H = model.fit_generator(\n",
        "\taug.flow(trainX, trainy, batch_size=BS),\n",
        "\tvalidation_data=(testX, testy),\n",
        "\tsteps_per_epoch=len(trainX) // BS,\n",
        "\tepochs=EPOCHS, class_weight = class_weight, shuffle = True)"
      ],
      "execution_count": null,
      "outputs": [
        {
          "output_type": "stream",
          "text": [
            "Epoch 1/50\n",
            "13/13 [==============================] - 7s 520ms/step - loss: 0.1156 - accuracy: 0.7355 - val_loss: 0.5813 - val_accuracy: 0.6667\n",
            "Epoch 2/50\n",
            "13/13 [==============================] - 1s 55ms/step - loss: 0.1021 - accuracy: 0.8264 - val_loss: 0.7680 - val_accuracy: 0.6667\n",
            "Epoch 3/50\n",
            "13/13 [==============================] - 1s 53ms/step - loss: 0.0644 - accuracy: 0.8595 - val_loss: 0.6001 - val_accuracy: 0.6667\n",
            "Epoch 4/50\n",
            "13/13 [==============================] - 1s 59ms/step - loss: 0.0775 - accuracy: 0.8462 - val_loss: 0.8283 - val_accuracy: 0.6667\n",
            "Epoch 5/50\n",
            "13/13 [==============================] - 1s 57ms/step - loss: 0.1778 - accuracy: 0.8182 - val_loss: 0.9436 - val_accuracy: 0.6667\n",
            "Epoch 6/50\n",
            "13/13 [==============================] - 1s 53ms/step - loss: 0.0700 - accuracy: 0.8661 - val_loss: 0.7159 - val_accuracy: 0.6667\n",
            "Epoch 7/50\n",
            "13/13 [==============================] - 1s 54ms/step - loss: 0.0988 - accuracy: 0.8308 - val_loss: 0.8159 - val_accuracy: 0.6667\n",
            "Epoch 8/50\n",
            "13/13 [==============================] - 1s 57ms/step - loss: 0.0776 - accuracy: 0.8430 - val_loss: 0.7199 - val_accuracy: 0.6667\n",
            "Epoch 9/50\n",
            "13/13 [==============================] - 1s 55ms/step - loss: 0.0504 - accuracy: 0.8347 - val_loss: 0.6405 - val_accuracy: 0.6667\n",
            "Epoch 10/50\n",
            "13/13 [==============================] - 1s 55ms/step - loss: 0.1148 - accuracy: 0.8929 - val_loss: 0.9042 - val_accuracy: 0.6667\n",
            "Epoch 11/50\n",
            "13/13 [==============================] - 1s 51ms/step - loss: 0.0770 - accuracy: 0.8430 - val_loss: 0.8985 - val_accuracy: 0.6667\n",
            "Epoch 12/50\n",
            "13/13 [==============================] - 1s 57ms/step - loss: 0.0623 - accuracy: 0.8692 - val_loss: 0.9715 - val_accuracy: 0.6667\n",
            "Epoch 13/50\n",
            "13/13 [==============================] - 1s 55ms/step - loss: 0.1011 - accuracy: 0.8304 - val_loss: 0.8580 - val_accuracy: 0.6667\n",
            "Epoch 14/50\n",
            "13/13 [==============================] - 1s 54ms/step - loss: 0.0758 - accuracy: 0.8462 - val_loss: 0.8126 - val_accuracy: 0.6667\n",
            "Epoch 15/50\n",
            "13/13 [==============================] - 1s 52ms/step - loss: 0.0734 - accuracy: 0.8430 - val_loss: 0.7724 - val_accuracy: 0.6667\n",
            "Epoch 16/50\n",
            "13/13 [==============================] - 1s 51ms/step - loss: 0.0697 - accuracy: 0.8430 - val_loss: 0.7024 - val_accuracy: 0.6667\n",
            "Epoch 17/50\n",
            "13/13 [==============================] - 1s 56ms/step - loss: 0.0756 - accuracy: 0.8430 - val_loss: 0.6788 - val_accuracy: 0.6667\n",
            "Epoch 18/50\n",
            "13/13 [==============================] - 1s 54ms/step - loss: 0.0696 - accuracy: 0.8595 - val_loss: 0.7521 - val_accuracy: 0.6667\n",
            "Epoch 19/50\n",
            "13/13 [==============================] - 1s 57ms/step - loss: 0.0778 - accuracy: 0.8538 - val_loss: 0.7818 - val_accuracy: 0.6667\n",
            "Epoch 20/50\n",
            "13/13 [==============================] - 1s 53ms/step - loss: 0.0569 - accuracy: 0.8750 - val_loss: 0.7408 - val_accuracy: 0.6667\n",
            "Epoch 21/50\n",
            "13/13 [==============================] - 1s 51ms/step - loss: 0.0767 - accuracy: 0.8182 - val_loss: 0.7054 - val_accuracy: 0.6667\n",
            "Epoch 22/50\n",
            "13/13 [==============================] - 1s 55ms/step - loss: 0.0687 - accuracy: 0.8538 - val_loss: 0.7201 - val_accuracy: 0.6667\n",
            "Epoch 23/50\n",
            "13/13 [==============================] - 1s 56ms/step - loss: 0.0653 - accuracy: 0.8595 - val_loss: 0.7463 - val_accuracy: 0.6667\n",
            "Epoch 24/50\n",
            "13/13 [==============================] - 1s 51ms/step - loss: 0.0702 - accuracy: 0.8304 - val_loss: 0.7545 - val_accuracy: 0.6667\n",
            "Epoch 25/50\n",
            "13/13 [==============================] - 1s 55ms/step - loss: 0.0570 - accuracy: 0.8538 - val_loss: 0.7276 - val_accuracy: 0.6667\n",
            "Epoch 26/50\n",
            "13/13 [==============================] - 1s 56ms/step - loss: 0.0722 - accuracy: 0.8347 - val_loss: 0.7366 - val_accuracy: 0.6667\n",
            "Epoch 27/50\n",
            "13/13 [==============================] - 1s 56ms/step - loss: 0.0700 - accuracy: 0.8430 - val_loss: 0.7603 - val_accuracy: 0.6667\n",
            "Epoch 28/50\n",
            "13/13 [==============================] - 1s 50ms/step - loss: 0.0767 - accuracy: 0.8430 - val_loss: 0.8397 - val_accuracy: 0.6667\n",
            "Epoch 29/50\n",
            "13/13 [==============================] - 1s 59ms/step - loss: 0.0818 - accuracy: 0.7615 - val_loss: 0.7370 - val_accuracy: 0.6667\n",
            "Epoch 30/50\n",
            "13/13 [==============================] - 1s 50ms/step - loss: 0.0688 - accuracy: 0.8036 - val_loss: 0.7178 - val_accuracy: 0.6667\n",
            "Epoch 31/50\n",
            "13/13 [==============================] - 1s 55ms/step - loss: 0.0829 - accuracy: 0.8462 - val_loss: 0.7864 - val_accuracy: 0.6667\n",
            "Epoch 32/50\n",
            "13/13 [==============================] - 1s 56ms/step - loss: 0.0596 - accuracy: 0.8595 - val_loss: 0.7576 - val_accuracy: 0.6667\n",
            "Epoch 33/50\n",
            "13/13 [==============================] - 1s 51ms/step - loss: 0.0744 - accuracy: 0.8482 - val_loss: 0.7509 - val_accuracy: 0.6667\n",
            "Epoch 34/50\n",
            "13/13 [==============================] - 1s 58ms/step - loss: 0.0621 - accuracy: 0.8462 - val_loss: 0.6883 - val_accuracy: 0.6667\n",
            "Epoch 35/50\n",
            "13/13 [==============================] - 1s 55ms/step - loss: 0.0775 - accuracy: 0.8393 - val_loss: 0.7280 - val_accuracy: 0.6667\n",
            "Epoch 36/50\n",
            "13/13 [==============================] - 1s 52ms/step - loss: 0.0612 - accuracy: 0.8264 - val_loss: 0.7131 - val_accuracy: 0.6667\n",
            "Epoch 37/50\n",
            "13/13 [==============================] - 1s 58ms/step - loss: 0.0531 - accuracy: 0.8769 - val_loss: 0.7124 - val_accuracy: 0.6667\n",
            "Epoch 38/50\n",
            "13/13 [==============================] - 1s 54ms/step - loss: 0.0698 - accuracy: 0.8512 - val_loss: 0.7153 - val_accuracy: 0.6667\n",
            "Epoch 39/50\n",
            "13/13 [==============================] - 1s 55ms/step - loss: 0.0692 - accuracy: 0.8430 - val_loss: 0.7320 - val_accuracy: 0.6667\n",
            "Epoch 40/50\n",
            "13/13 [==============================] - 1s 57ms/step - loss: 0.0584 - accuracy: 0.8512 - val_loss: 0.6917 - val_accuracy: 0.7333\n",
            "Epoch 41/50\n",
            "13/13 [==============================] - 1s 56ms/step - loss: 0.0674 - accuracy: 0.8182 - val_loss: 0.7013 - val_accuracy: 0.6667\n",
            "Epoch 42/50\n",
            "13/13 [==============================] - 1s 51ms/step - loss: 0.0762 - accuracy: 0.4545 - val_loss: 0.6573 - val_accuracy: 0.6000\n",
            "Epoch 43/50\n",
            "13/13 [==============================] - 1s 55ms/step - loss: 0.0612 - accuracy: 0.6860 - val_loss: 0.6599 - val_accuracy: 0.6667\n",
            "Epoch 44/50\n",
            "13/13 [==============================] - 1s 56ms/step - loss: 0.0803 - accuracy: 0.8595 - val_loss: 0.7040 - val_accuracy: 0.6667\n",
            "Epoch 45/50\n",
            "13/13 [==============================] - 1s 55ms/step - loss: 0.0553 - accuracy: 0.8595 - val_loss: 0.6508 - val_accuracy: 0.6667\n",
            "Epoch 46/50\n",
            "13/13 [==============================] - 1s 58ms/step - loss: 0.0656 - accuracy: 0.7934 - val_loss: 0.6390 - val_accuracy: 0.8667\n",
            "Epoch 47/50\n",
            "13/13 [==============================] - 1s 52ms/step - loss: 0.0666 - accuracy: 0.8017 - val_loss: 0.8288 - val_accuracy: 0.6000\n",
            "Epoch 48/50\n",
            "13/13 [==============================] - 1s 60ms/step - loss: 0.0574 - accuracy: 0.8347 - val_loss: 0.5968 - val_accuracy: 0.8667\n",
            "Epoch 49/50\n",
            "13/13 [==============================] - 1s 55ms/step - loss: 0.0519 - accuracy: 0.7686 - val_loss: 0.5687 - val_accuracy: 0.9333\n",
            "Epoch 50/50\n",
            "13/13 [==============================] - 1s 58ms/step - loss: 0.0557 - accuracy: 0.8000 - val_loss: 0.5559 - val_accuracy: 0.8667\n"
          ],
          "name": "stdout"
        }
      ]
    },
    {
      "cell_type": "code",
      "metadata": {
        "id": "RyZEZfsB40oZ"
      },
      "source": [
        ""
      ],
      "execution_count": null,
      "outputs": []
    },
    {
      "cell_type": "code",
      "metadata": {
        "id": "ZABTpXAufucf",
        "colab": {
          "base_uri": "https://localhost:8080/",
          "height": 187
        },
        "outputId": "1ef767b0-21da-4f77-dae2-589870514248"
      },
      "source": [
        "#evaluate the network\n",
        "print(\"[INFO] evaluating network...\")\n",
        "predictions = model.predict(testX, batch_size=BS)\n",
        "print(classification_report(testy.argmax(axis=1),\n",
        "\tpredictions.argmax(axis=1)))\n"
      ],
      "execution_count": null,
      "outputs": [
        {
          "output_type": "stream",
          "text": [
            "[INFO] evaluating network...\n",
            "              precision    recall  f1-score   support\n",
            "\n",
            "           1       0.83      1.00      0.91        10\n",
            "           2       1.00      0.60      0.75         5\n",
            "\n",
            "    accuracy                           0.87        15\n",
            "   macro avg       0.92      0.80      0.83        15\n",
            "weighted avg       0.89      0.87      0.86        15\n",
            "\n"
          ],
          "name": "stdout"
        }
      ]
    },
    {
      "cell_type": "code",
      "metadata": {
        "id": "aPnM3X2CVgBk",
        "colab": {
          "base_uri": "https://localhost:8080/",
          "height": 316
        },
        "outputId": "0418d03e-ca8f-403e-ce06-2acd9806f85e"
      },
      "source": [
        "N = np.arange(0, EPOCHS)\n",
        "plt.style.use(\"ggplot\")\n",
        "plt.figure()\n",
        "plt.plot(N, H.history[\"loss\"], label=\"train_loss\")\n",
        "plt.plot(N, H.history[\"val_loss\"], label=\"val_loss\")\n",
        "plt.plot(N, H.history[\"accuracy\"], label=\"train_acc\")\n",
        "plt.plot(N, H.history[\"val_accuracy\"], label=\"val_acc\")\n",
        "plt.title(\"Training Loss and Accuracy on Dataset\")\n",
        "plt.xlabel(\"Epoch #\")\n",
        "plt.ylabel(\"Loss/Accuracy\")\n",
        "plt.legend(loc=\"lower left\")\n"
      ],
      "execution_count": null,
      "outputs": [
        {
          "output_type": "execute_result",
          "data": {
            "text/plain": [
              "<matplotlib.legend.Legend at 0x7f6db027d160>"
            ]
          },
          "metadata": {
            "tags": []
          },
          "execution_count": 30
        },
        {
          "output_type": "display_data",
          "data": {
            "image/png": "[encoded data removed]",
            "text/plain": [
              "<Figure size 432x288 with 1 Axes>"
            ]
          },
          "metadata": {
            "tags": []
          }
        }
      ]
    }
  ]
}