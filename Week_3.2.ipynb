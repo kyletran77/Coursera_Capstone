{
  "nbformat": 4,
  "nbformat_minor": 0,
  "metadata": {
    "colab": {
      "name": "segmentation",
      "version": "0.3.2",
      "provenance": [],
      "collapsed_sections": [],
      "include_colab_link": true
    },
    "kernelspec": {
      "name": "python3",
      "display_name": "Python 3"
    }
  },
  "cells": [
    {
      "cell_type": "markdown",
      "metadata": {
        "id": "view-in-github",
        "colab_type": "text"
      },
      "source": [
        "<a href=\"https://colab.research.google.com/github/kyletran77/Coursera_Capstone/blob/master/Week_3.2.ipynb\" target=\"_parent\"><img src=\"https://colab.research.google.com/assets/colab-badge.svg\" alt=\"Open In Colab\"/></a>"
      ]
    },
    {
      "cell_type": "markdown",
      "metadata": {
        "id": "Tputttmz8Ptl",
        "colab_type": "text"
      },
      "source": [
        "**1 . Import the libraries to scrape the website**"
      ]
    },
    {
      "cell_type": "code",
      "metadata": {
        "id": "88GlpibjFIEZ",
        "colab_type": "code",
        "colab": {}
      },
      "source": [
        "import pandas as pd   #import the libraries we need\n",
        "from bs4 import BeautifulSoup  #lib for table html\n",
        "import requests"
      ],
      "execution_count": 0,
      "outputs": []
    },
    {
      "cell_type": "markdown",
      "metadata": {
        "id": "WX4ZWwYJ8e0O",
        "colab_type": "text"
      },
      "source": [
        "**2. Use the wiki url and parse data into BeautifulSoup**"
      ]
    },
    {
      "cell_type": "code",
      "metadata": {
        "id": "OXA2YHmIGrLJ",
        "colab_type": "code",
        "colab": {}
      },
      "source": [
        "url  = 'https://en.wikipedia.org/wiki/List_of_postal_codes_of_Canada:_M'\n",
        "html = requests.get(url)\n",
        "soup = BeautifulSoup(html.text, 'html5lib') #get wiki"
      ],
      "execution_count": 0,
      "outputs": []
    },
    {
      "cell_type": "code",
      "metadata": {
        "id": "IxXZbFmIf-St",
        "colab_type": "code",
        "colab": {}
      },
      "source": [
        "postallist = [] #list for each cell\n",
        "boroughlist = []\n",
        "neighbourhood = []"
      ],
      "execution_count": 0,
      "outputs": []
    },
    {
      "cell_type": "markdown",
      "metadata": {
        "id": "JIniaJUF8x_x",
        "colab_type": "text"
      },
      "source": [
        "**3.  Locate the rows from table and update each row into the lists.**"
      ]
    },
    {
      "cell_type": "code",
      "metadata": {
        "id": "J0C4g8QQd8bP",
        "colab_type": "code",
        "colab": {}
      },
      "source": [
        "soup.find('table').find_all('tr')#table\n",
        "soup.find('table').find_all('td')#rows\n",
        "for row in soup.find('table').find_all('tr'):\n",
        "  cells = row.find_all('td')#find all rows in table\n",
        "  if(len(cells)>0):\n",
        "    postallist.append(cells[0].text)\n",
        "    boroughlist.append(cells[1].text)\n",
        "    neighbourhood.append(cells[2].text.rstrip('\\n'))# strip the ending to prevent newlines"
      ],
      "execution_count": 0,
      "outputs": []
    },
    {
      "cell_type": "markdown",
      "metadata": {
        "id": "IwDpjJa58_9d",
        "colab_type": "text"
      },
      "source": [
        "**4. Create a dataframe**"
      ]
    },
    {
      "cell_type": "code",
      "metadata": {
        "id": "vsRnVjKTgqqC",
        "colab_type": "code",
        "outputId": "c4e558fd-ab54-428a-ae1d-03b3c7fc2690",
        "colab": {
          "base_uri": "https://localhost:8080/",
          "height": 359
        }
      },
      "source": [
        "tor_df = pd.DataFrame({'PostalCode': postallist,\n",
        "                      'Borough':boroughlist,\n",
        "                      'Neighborhood':neighbourhood}) #create the dataframe \n",
        "tor_df.head(10)"
      ],
      "execution_count": 6,
      "outputs": [
        {
          "output_type": "execute_result",
          "data": {
            "text/html": [
              "<div>\n",
              "<style scoped>\n",
              "    .dataframe tbody tr th:only-of-type {\n",
              "        vertical-align: middle;\n",
              "    }\n",
              "\n",
              "    .dataframe tbody tr th {\n",
              "        vertical-align: top;\n",
              "    }\n",
              "\n",
              "    .dataframe thead th {\n",
              "        text-align: right;\n",
              "    }\n",
              "</style>\n",
              "<table border=\"1\" class=\"dataframe\">\n",
              "  <thead>\n",
              "    <tr style=\"text-align: right;\">\n",
              "      <th></th>\n",
              "      <th>PostalCode</th>\n",
              "      <th>Borough</th>\n",
              "      <th>Neighborhood</th>\n",
              "    </tr>\n",
              "  </thead>\n",
              "  <tbody>\n",
              "    <tr>\n",
              "      <th>0</th>\n",
              "      <td>M1A</td>\n",
              "      <td>Not assigned</td>\n",
              "      <td>Not assigned</td>\n",
              "    </tr>\n",
              "    <tr>\n",
              "      <th>1</th>\n",
              "      <td>M2A</td>\n",
              "      <td>Not assigned</td>\n",
              "      <td>Not assigned</td>\n",
              "    </tr>\n",
              "    <tr>\n",
              "      <th>2</th>\n",
              "      <td>M3A</td>\n",
              "      <td>North York</td>\n",
              "      <td>Parkwoods</td>\n",
              "    </tr>\n",
              "    <tr>\n",
              "      <th>3</th>\n",
              "      <td>M4A</td>\n",
              "      <td>North York</td>\n",
              "      <td>Victoria Village</td>\n",
              "    </tr>\n",
              "    <tr>\n",
              "      <th>4</th>\n",
              "      <td>M5A</td>\n",
              "      <td>Downtown Toronto</td>\n",
              "      <td>Harbourfront</td>\n",
              "    </tr>\n",
              "    <tr>\n",
              "      <th>5</th>\n",
              "      <td>M5A</td>\n",
              "      <td>Downtown Toronto</td>\n",
              "      <td>Regent Park</td>\n",
              "    </tr>\n",
              "    <tr>\n",
              "      <th>6</th>\n",
              "      <td>M6A</td>\n",
              "      <td>North York</td>\n",
              "      <td>Lawrence Heights</td>\n",
              "    </tr>\n",
              "    <tr>\n",
              "      <th>7</th>\n",
              "      <td>M6A</td>\n",
              "      <td>North York</td>\n",
              "      <td>Lawrence Manor</td>\n",
              "    </tr>\n",
              "    <tr>\n",
              "      <th>8</th>\n",
              "      <td>M7A</td>\n",
              "      <td>Queen's Park</td>\n",
              "      <td>Not assigned</td>\n",
              "    </tr>\n",
              "    <tr>\n",
              "      <th>9</th>\n",
              "      <td>M8A</td>\n",
              "      <td>Not assigned</td>\n",
              "      <td>Not assigned</td>\n",
              "    </tr>\n",
              "  </tbody>\n",
              "</table>\n",
              "</div>"
            ],
            "text/plain": [
              "  PostalCode           Borough      Neighborhood\n",
              "0        M1A      Not assigned      Not assigned\n",
              "1        M2A      Not assigned      Not assigned\n",
              "2        M3A        North York         Parkwoods\n",
              "3        M4A        North York  Victoria Village\n",
              "4        M5A  Downtown Toronto      Harbourfront\n",
              "5        M5A  Downtown Toronto       Regent Park\n",
              "6        M6A        North York  Lawrence Heights\n",
              "7        M6A        North York    Lawrence Manor\n",
              "8        M7A      Queen's Park      Not assigned\n",
              "9        M8A      Not assigned      Not assigned"
            ]
          },
          "metadata": {
            "tags": []
          },
          "execution_count": 6
        }
      ]
    },
    {
      "cell_type": "code",
      "metadata": {
        "id": "vJUA2Vm80U4f",
        "colab_type": "code",
        "outputId": "dbb7372e-cd40-4a8d-e59d-ea8974b28ac9",
        "colab": {
          "base_uri": "https://localhost:8080/",
          "height": 359
        }
      },
      "source": [
        "tor_df1 = tor_df[tor_df['Borough'] != 'Not assigned'].reset_index(drop=True)\n",
        "tor_df1.head(10)"
      ],
      "execution_count": 7,
      "outputs": [
        {
          "output_type": "execute_result",
          "data": {
            "text/html": [
              "<div>\n",
              "<style scoped>\n",
              "    .dataframe tbody tr th:only-of-type {\n",
              "        vertical-align: middle;\n",
              "    }\n",
              "\n",
              "    .dataframe tbody tr th {\n",
              "        vertical-align: top;\n",
              "    }\n",
              "\n",
              "    .dataframe thead th {\n",
              "        text-align: right;\n",
              "    }\n",
              "</style>\n",
              "<table border=\"1\" class=\"dataframe\">\n",
              "  <thead>\n",
              "    <tr style=\"text-align: right;\">\n",
              "      <th></th>\n",
              "      <th>PostalCode</th>\n",
              "      <th>Borough</th>\n",
              "      <th>Neighborhood</th>\n",
              "    </tr>\n",
              "  </thead>\n",
              "  <tbody>\n",
              "    <tr>\n",
              "      <th>0</th>\n",
              "      <td>M3A</td>\n",
              "      <td>North York</td>\n",
              "      <td>Parkwoods</td>\n",
              "    </tr>\n",
              "    <tr>\n",
              "      <th>1</th>\n",
              "      <td>M4A</td>\n",
              "      <td>North York</td>\n",
              "      <td>Victoria Village</td>\n",
              "    </tr>\n",
              "    <tr>\n",
              "      <th>2</th>\n",
              "      <td>M5A</td>\n",
              "      <td>Downtown Toronto</td>\n",
              "      <td>Harbourfront</td>\n",
              "    </tr>\n",
              "    <tr>\n",
              "      <th>3</th>\n",
              "      <td>M5A</td>\n",
              "      <td>Downtown Toronto</td>\n",
              "      <td>Regent Park</td>\n",
              "    </tr>\n",
              "    <tr>\n",
              "      <th>4</th>\n",
              "      <td>M6A</td>\n",
              "      <td>North York</td>\n",
              "      <td>Lawrence Heights</td>\n",
              "    </tr>\n",
              "    <tr>\n",
              "      <th>5</th>\n",
              "      <td>M6A</td>\n",
              "      <td>North York</td>\n",
              "      <td>Lawrence Manor</td>\n",
              "    </tr>\n",
              "    <tr>\n",
              "      <th>6</th>\n",
              "      <td>M7A</td>\n",
              "      <td>Queen's Park</td>\n",
              "      <td>Not assigned</td>\n",
              "    </tr>\n",
              "    <tr>\n",
              "      <th>7</th>\n",
              "      <td>M9A</td>\n",
              "      <td>Etobicoke</td>\n",
              "      <td>Islington Avenue</td>\n",
              "    </tr>\n",
              "    <tr>\n",
              "      <th>8</th>\n",
              "      <td>M1B</td>\n",
              "      <td>Scarborough</td>\n",
              "      <td>Rouge</td>\n",
              "    </tr>\n",
              "    <tr>\n",
              "      <th>9</th>\n",
              "      <td>M1B</td>\n",
              "      <td>Scarborough</td>\n",
              "      <td>Malvern</td>\n",
              "    </tr>\n",
              "  </tbody>\n",
              "</table>\n",
              "</div>"
            ],
            "text/plain": [
              "  PostalCode           Borough      Neighborhood\n",
              "0        M3A        North York         Parkwoods\n",
              "1        M4A        North York  Victoria Village\n",
              "2        M5A  Downtown Toronto      Harbourfront\n",
              "3        M5A  Downtown Toronto       Regent Park\n",
              "4        M6A        North York  Lawrence Heights\n",
              "5        M6A        North York    Lawrence Manor\n",
              "6        M7A      Queen's Park      Not assigned\n",
              "7        M9A         Etobicoke  Islington Avenue\n",
              "8        M1B       Scarborough             Rouge\n",
              "9        M1B       Scarborough           Malvern"
            ]
          },
          "metadata": {
            "tags": []
          },
          "execution_count": 7
        }
      ]
    },
    {
      "cell_type": "code",
      "metadata": {
        "id": "o3H-vhgr1Hon",
        "colab_type": "code",
        "outputId": "63d351af-3c24-4bd0-f0a2-5559ad3d9c5c",
        "colab": {
          "base_uri": "https://localhost:8080/",
          "height": 421
        }
      },
      "source": [
        "tor_group=tor_df1.groupby(['PostalCode', 'Borough'], as_index = False).agg(lambda x: ','.join(x))\n",
        "tor_group.head(12)"
      ],
      "execution_count": 8,
      "outputs": [
        {
          "output_type": "execute_result",
          "data": {
            "text/html": [
              "<div>\n",
              "<style scoped>\n",
              "    .dataframe tbody tr th:only-of-type {\n",
              "        vertical-align: middle;\n",
              "    }\n",
              "\n",
              "    .dataframe tbody tr th {\n",
              "        vertical-align: top;\n",
              "    }\n",
              "\n",
              "    .dataframe thead th {\n",
              "        text-align: right;\n",
              "    }\n",
              "</style>\n",
              "<table border=\"1\" class=\"dataframe\">\n",
              "  <thead>\n",
              "    <tr style=\"text-align: right;\">\n",
              "      <th></th>\n",
              "      <th>PostalCode</th>\n",
              "      <th>Borough</th>\n",
              "      <th>Neighborhood</th>\n",
              "    </tr>\n",
              "  </thead>\n",
              "  <tbody>\n",
              "    <tr>\n",
              "      <th>0</th>\n",
              "      <td>M1B</td>\n",
              "      <td>Scarborough</td>\n",
              "      <td>Rouge,Malvern</td>\n",
              "    </tr>\n",
              "    <tr>\n",
              "      <th>1</th>\n",
              "      <td>M1C</td>\n",
              "      <td>Scarborough</td>\n",
              "      <td>Highland Creek,Rouge Hill,Port Union</td>\n",
              "    </tr>\n",
              "    <tr>\n",
              "      <th>2</th>\n",
              "      <td>M1E</td>\n",
              "      <td>Scarborough</td>\n",
              "      <td>Guildwood,Morningside,West Hill</td>\n",
              "    </tr>\n",
              "    <tr>\n",
              "      <th>3</th>\n",
              "      <td>M1G</td>\n",
              "      <td>Scarborough</td>\n",
              "      <td>Woburn</td>\n",
              "    </tr>\n",
              "    <tr>\n",
              "      <th>4</th>\n",
              "      <td>M1H</td>\n",
              "      <td>Scarborough</td>\n",
              "      <td>Cedarbrae</td>\n",
              "    </tr>\n",
              "    <tr>\n",
              "      <th>5</th>\n",
              "      <td>M1J</td>\n",
              "      <td>Scarborough</td>\n",
              "      <td>Scarborough Village</td>\n",
              "    </tr>\n",
              "    <tr>\n",
              "      <th>6</th>\n",
              "      <td>M1K</td>\n",
              "      <td>Scarborough</td>\n",
              "      <td>East Birchmount Park,Ionview,Kennedy Park</td>\n",
              "    </tr>\n",
              "    <tr>\n",
              "      <th>7</th>\n",
              "      <td>M1L</td>\n",
              "      <td>Scarborough</td>\n",
              "      <td>Clairlea,Golden Mile,Oakridge</td>\n",
              "    </tr>\n",
              "    <tr>\n",
              "      <th>8</th>\n",
              "      <td>M1M</td>\n",
              "      <td>Scarborough</td>\n",
              "      <td>Cliffcrest,Cliffside,Scarborough Village West</td>\n",
              "    </tr>\n",
              "    <tr>\n",
              "      <th>9</th>\n",
              "      <td>M1N</td>\n",
              "      <td>Scarborough</td>\n",
              "      <td>Birch Cliff,Cliffside West</td>\n",
              "    </tr>\n",
              "    <tr>\n",
              "      <th>10</th>\n",
              "      <td>M1P</td>\n",
              "      <td>Scarborough</td>\n",
              "      <td>Dorset Park,Scarborough Town Centre,Wexford He...</td>\n",
              "    </tr>\n",
              "    <tr>\n",
              "      <th>11</th>\n",
              "      <td>M1R</td>\n",
              "      <td>Scarborough</td>\n",
              "      <td>Maryvale,Wexford</td>\n",
              "    </tr>\n",
              "  </tbody>\n",
              "</table>\n",
              "</div>"
            ],
            "text/plain": [
              "   PostalCode      Borough                                       Neighborhood\n",
              "0         M1B  Scarborough                                      Rouge,Malvern\n",
              "1         M1C  Scarborough               Highland Creek,Rouge Hill,Port Union\n",
              "2         M1E  Scarborough                    Guildwood,Morningside,West Hill\n",
              "3         M1G  Scarborough                                             Woburn\n",
              "4         M1H  Scarborough                                          Cedarbrae\n",
              "5         M1J  Scarborough                                Scarborough Village\n",
              "6         M1K  Scarborough          East Birchmount Park,Ionview,Kennedy Park\n",
              "7         M1L  Scarborough                      Clairlea,Golden Mile,Oakridge\n",
              "8         M1M  Scarborough      Cliffcrest,Cliffside,Scarborough Village West\n",
              "9         M1N  Scarborough                         Birch Cliff,Cliffside West\n",
              "10        M1P  Scarborough  Dorset Park,Scarborough Town Centre,Wexford He...\n",
              "11        M1R  Scarborough                                   Maryvale,Wexford"
            ]
          },
          "metadata": {
            "tags": []
          },
          "execution_count": 8
        }
      ]
    },
    {
      "cell_type": "markdown",
      "metadata": {
        "id": "VlnNEK8L-h-c",
        "colab_type": "text"
      },
      "source": [
        "**5. Organize table to match question’s values**"
      ]
    },
    {
      "cell_type": "code",
      "metadata": {
        "id": "njy899nP-1xN",
        "colab_type": "code",
        "outputId": "bd7c46da-0595-481b-e220-a9e14b667e68",
        "colab": {
          "base_uri": "https://localhost:8080/",
          "height": 421
        }
      },
      "source": [
        "columns_ = ['PostalCode','Borough','Neighborhood']\n",
        "test_d = pd.DataFrame(columns= columns_)#create test dataframe\n",
        "\n",
        "test_list = ['M5G','M2H', 'M4B', 'M1J', 'M4G', 'M4M', 'M1R','M9V','M9L','M5V','M1B', 'M5A']\n",
        "\n",
        "for code in test_list:#update test dataframe where it takes each value in the test list to get the value\n",
        "  test_d = test_d.append(tor_group[tor_group['PostalCode']==code], ignore_index = True)\n",
        "test_d\n",
        "\n"
      ],
      "execution_count": 9,
      "outputs": [
        {
          "output_type": "execute_result",
          "data": {
            "text/html": [
              "<div>\n",
              "<style scoped>\n",
              "    .dataframe tbody tr th:only-of-type {\n",
              "        vertical-align: middle;\n",
              "    }\n",
              "\n",
              "    .dataframe tbody tr th {\n",
              "        vertical-align: top;\n",
              "    }\n",
              "\n",
              "    .dataframe thead th {\n",
              "        text-align: right;\n",
              "    }\n",
              "</style>\n",
              "<table border=\"1\" class=\"dataframe\">\n",
              "  <thead>\n",
              "    <tr style=\"text-align: right;\">\n",
              "      <th></th>\n",
              "      <th>PostalCode</th>\n",
              "      <th>Borough</th>\n",
              "      <th>Neighborhood</th>\n",
              "    </tr>\n",
              "  </thead>\n",
              "  <tbody>\n",
              "    <tr>\n",
              "      <th>0</th>\n",
              "      <td>M5G</td>\n",
              "      <td>Downtown Toronto</td>\n",
              "      <td>Central Bay Street</td>\n",
              "    </tr>\n",
              "    <tr>\n",
              "      <th>1</th>\n",
              "      <td>M2H</td>\n",
              "      <td>North York</td>\n",
              "      <td>Hillcrest Village</td>\n",
              "    </tr>\n",
              "    <tr>\n",
              "      <th>2</th>\n",
              "      <td>M4B</td>\n",
              "      <td>East York</td>\n",
              "      <td>Woodbine Gardens,Parkview Hill</td>\n",
              "    </tr>\n",
              "    <tr>\n",
              "      <th>3</th>\n",
              "      <td>M1J</td>\n",
              "      <td>Scarborough</td>\n",
              "      <td>Scarborough Village</td>\n",
              "    </tr>\n",
              "    <tr>\n",
              "      <th>4</th>\n",
              "      <td>M4G</td>\n",
              "      <td>East York</td>\n",
              "      <td>Leaside</td>\n",
              "    </tr>\n",
              "    <tr>\n",
              "      <th>5</th>\n",
              "      <td>M4M</td>\n",
              "      <td>East Toronto</td>\n",
              "      <td>Studio District</td>\n",
              "    </tr>\n",
              "    <tr>\n",
              "      <th>6</th>\n",
              "      <td>M1R</td>\n",
              "      <td>Scarborough</td>\n",
              "      <td>Maryvale,Wexford</td>\n",
              "    </tr>\n",
              "    <tr>\n",
              "      <th>7</th>\n",
              "      <td>M9V</td>\n",
              "      <td>Etobicoke</td>\n",
              "      <td>Albion Gardens,Beaumond Heights,Humbergate,Jam...</td>\n",
              "    </tr>\n",
              "    <tr>\n",
              "      <th>8</th>\n",
              "      <td>M9L</td>\n",
              "      <td>North York</td>\n",
              "      <td>Humber Summit</td>\n",
              "    </tr>\n",
              "    <tr>\n",
              "      <th>9</th>\n",
              "      <td>M5V</td>\n",
              "      <td>Downtown Toronto</td>\n",
              "      <td>CN Tower,Bathurst Quay,Island airport,Harbourf...</td>\n",
              "    </tr>\n",
              "    <tr>\n",
              "      <th>10</th>\n",
              "      <td>M1B</td>\n",
              "      <td>Scarborough</td>\n",
              "      <td>Rouge,Malvern</td>\n",
              "    </tr>\n",
              "    <tr>\n",
              "      <th>11</th>\n",
              "      <td>M5A</td>\n",
              "      <td>Downtown Toronto</td>\n",
              "      <td>Harbourfront,Regent Park</td>\n",
              "    </tr>\n",
              "  </tbody>\n",
              "</table>\n",
              "</div>"
            ],
            "text/plain": [
              "   PostalCode  ...                                       Neighborhood\n",
              "0         M5G  ...                                 Central Bay Street\n",
              "1         M2H  ...                                  Hillcrest Village\n",
              "2         M4B  ...                     Woodbine Gardens,Parkview Hill\n",
              "3         M1J  ...                                Scarborough Village\n",
              "4         M4G  ...                                            Leaside\n",
              "5         M4M  ...                                    Studio District\n",
              "6         M1R  ...                                   Maryvale,Wexford\n",
              "7         M9V  ...  Albion Gardens,Beaumond Heights,Humbergate,Jam...\n",
              "8         M9L  ...                                      Humber Summit\n",
              "9         M5V  ...  CN Tower,Bathurst Quay,Island airport,Harbourf...\n",
              "10        M1B  ...                                      Rouge,Malvern\n",
              "11        M5A  ...                           Harbourfront,Regent Park\n",
              "\n",
              "[12 rows x 3 columns]"
            ]
          },
          "metadata": {
            "tags": []
          },
          "execution_count": 9
        }
      ]
    },
    {
      "cell_type": "code",
      "metadata": {
        "id": "h0Bmvh699Qs5",
        "colab_type": "code",
        "outputId": "d603a0ec-8fde-435c-c212-7d3329e5f8aa",
        "colab": {
          "base_uri": "https://localhost:8080/",
          "height": 34
        }
      },
      "source": [
        "tor_group.shape"
      ],
      "execution_count": 10,
      "outputs": [
        {
          "output_type": "execute_result",
          "data": {
            "text/plain": [
              "(103, 3)"
            ]
          },
          "metadata": {
            "tags": []
          },
          "execution_count": 10
        }
      ]
    },
    {
      "cell_type": "code",
      "metadata": {
        "id": "mc9DSqf7OBGI",
        "colab_type": "code",
        "colab": {
          "base_uri": "https://localhost:8080/",
          "height": 552
        },
        "outputId": "e5ec64a1-bca5-4667-ec05-287a88c03498"
      },
      "source": [
        "!wget -O Geospatial_Coordinates.csv 'https://cocl.us/Geospatial_data'"
      ],
      "execution_count": 25,
      "outputs": [
        {
          "output_type": "stream",
          "text": [
            "--2019-08-06 00:02:58--  https://cocl.us/Geospatial_data\n",
            "Resolving cocl.us (cocl.us)... 169.48.113.201\n",
            "Connecting to cocl.us (cocl.us)|169.48.113.201|:443... connected.\n",
            "HTTP request sent, awaiting response... 301 Moved Permanently\n",
            "Location: https://ibm.box.com/shared/static/9afzr83pps4pwf2smjjcf1y5mvgb18rr.csv [following]\n",
            "--2019-08-06 00:02:59--  https://ibm.box.com/shared/static/9afzr83pps4pwf2smjjcf1y5mvgb18rr.csv\n",
            "Resolving ibm.box.com (ibm.box.com)... 107.152.27.197, 107.152.26.197\n",
            "Connecting to ibm.box.com (ibm.box.com)|107.152.27.197|:443... connected.\n",
            "HTTP request sent, awaiting response... 301 Moved Permanently\n",
            "Location: /public/static/9afzr83pps4pwf2smjjcf1y5mvgb18rr.csv [following]\n",
            "--2019-08-06 00:03:00--  https://ibm.box.com/public/static/9afzr83pps4pwf2smjjcf1y5mvgb18rr.csv\n",
            "Reusing existing connection to ibm.box.com:443.\n",
            "HTTP request sent, awaiting response... 301 Moved Permanently\n",
            "Location: https://ibm.ent.box.com/public/static/9afzr83pps4pwf2smjjcf1y5mvgb18rr.csv [following]\n",
            "--2019-08-06 00:03:00--  https://ibm.ent.box.com/public/static/9afzr83pps4pwf2smjjcf1y5mvgb18rr.csv\n",
            "Resolving ibm.ent.box.com (ibm.ent.box.com)... 107.152.27.211, 107.152.26.211\n",
            "Connecting to ibm.ent.box.com (ibm.ent.box.com)|107.152.27.211|:443... connected.\n",
            "HTTP request sent, awaiting response... 302 Found\n",
            "Location: https://public.boxcloud.com/d/1/b1!BpNimzOByl2YMSTJIg6rTbplaHp2BEamdiQlwKP6KHHYNtJWnmUXpqUCXqpN4Wqrvo9oD0XrYjYqnFsHGM573aJKH6L2OWTv1qXHGNOBovLMSbX8xuGQjIAMhvE6aNwFvmWlLFs7mDeYr8q83xxkDrHxBG5McrHYikTkaMEjGtxR3i71iF4A4dt5Coe8FbjeVGqfObz4jblq79HEFvUff0mGOWKVAfMGS5jbcGdIf6SXIZWejB6xHTmwodm4nonacYfSOvFYS08xLBZ3lxsFZ9WOjR88G8RPgB0ZA-kRn1Vih3ruW1qVpoF6nNZrzmv65LNc1bo67ONRZZ5AP0XqulbsAc2IIQ84L5vVf_7XM7PA4iTnpcC116G9zaeDSIqzcomBzGzYHhbEpum913eLkK822_Xpg0rcEmm98nmApToOCIwP2z_rpoGlUESjHl5eO5R3B6L5pfOh3O3L-NUYs-sP8FXsNVRFd7dusoJvQKDu05NbMmojS-eqCcnv_IuIirqU09hbuDrp6kaM6oqN6W8i9rm0QB4gJZYF0C6bCyJWmSOcCcQB1RW6Z7JBpS5wmq36_pA9hAY-lVrO6hHIECQQ01E8wTrsp33IZ5j56D6lj2X0rCyHRlpyyi99AXUqyzTBIkH1nDzOKKCBGr4TnPdkoeKvxfhNSm-T2WmpmcClasQ7pMkDfjtHWx5ZelNdNFImIDKiaQJpViEBChmk19APEpXIhDpFhBDVDll76MKbmqat6FmxTlfZ0jWK0U1nYWxLGHd_GppmMoLgyfBynqfoqgeQ26bTytvRRksuwWwCiJJ_WU3htJqk3b_j16fKWfc9_HUzy6e3jeovITlhOZVTIgLInC9kGHkLect-KcXx9yVpOv8pzkeWeO03MG1PQZyQuxY0hldb-JPpU4nPAys6a6aHgnEKDMKHFw3b573tvlqpkgHLXfAYI03k7oMWwwYgTdRTiOO5rxGxqJ3wg6TvIzVrbvHhfPaeS6MVt4R23MOEMejbOorbSaQGb67GLDjZ1oPp1Qm_2-U7UebEuLyev_AXlD0M7qsbsEHtf_I-F8Cr_wFb9JpVFoDanLCexpDuEAGCgHQiEy2A8q3ygTzFo07rFSQrndLqkcZMt9wnBahTAV4bMxv0wYvmzfjou1GZLehAzStOLtoMAPJNpC4JlKll7dN8fvGg12r2vCeLuz1j0FRgINmpEQ8WuCbpv8YEq3evdVe-0ixjd2ACAr-VE9GUQUMpRFgApT3i0HxP1I5aLCX46DlMb_mOZHkXIyKI5AybbiC3XcVPUtowpVXNrggA0G4mpNwP8ZZN-ZYwDAxyNIRKLAZcgvVQnEHlEwIHUb_Vz1uU-CfPnybMw3eyGcw1Td8v2X0jZgg8WjZXdeU6UleLSBNKhA../download [following]\n",
            "--2019-08-06 00:03:01--  https://public.boxcloud.com/d/1/b1!BpNimzOByl2YMSTJIg6rTbplaHp2BEamdiQlwKP6KHHYNtJWnmUXpqUCXqpN4Wqrvo9oD0XrYjYqnFsHGM573aJKH6L2OWTv1qXHGNOBovLMSbX8xuGQjIAMhvE6aNwFvmWlLFs7mDeYr8q83xxkDrHxBG5McrHYikTkaMEjGtxR3i71iF4A4dt5Coe8FbjeVGqfObz4jblq79HEFvUff0mGOWKVAfMGS5jbcGdIf6SXIZWejB6xHTmwodm4nonacYfSOvFYS08xLBZ3lxsFZ9WOjR88G8RPgB0ZA-kRn1Vih3ruW1qVpoF6nNZrzmv65LNc1bo67ONRZZ5AP0XqulbsAc2IIQ84L5vVf_7XM7PA4iTnpcC116G9zaeDSIqzcomBzGzYHhbEpum913eLkK822_Xpg0rcEmm98nmApToOCIwP2z_rpoGlUESjHl5eO5R3B6L5pfOh3O3L-NUYs-sP8FXsNVRFd7dusoJvQKDu05NbMmojS-eqCcnv_IuIirqU09hbuDrp6kaM6oqN6W8i9rm0QB4gJZYF0C6bCyJWmSOcCcQB1RW6Z7JBpS5wmq36_pA9hAY-lVrO6hHIECQQ01E8wTrsp33IZ5j56D6lj2X0rCyHRlpyyi99AXUqyzTBIkH1nDzOKKCBGr4TnPdkoeKvxfhNSm-T2WmpmcClasQ7pMkDfjtHWx5ZelNdNFImIDKiaQJpViEBChmk19APEpXIhDpFhBDVDll76MKbmqat6FmxTlfZ0jWK0U1nYWxLGHd_GppmMoLgyfBynqfoqgeQ26bTytvRRksuwWwCiJJ_WU3htJqk3b_j16fKWfc9_HUzy6e3jeovITlhOZVTIgLInC9kGHkLect-KcXx9yVpOv8pzkeWeO03MG1PQZyQuxY0hldb-JPpU4nPAys6a6aHgnEKDMKHFw3b573tvlqpkgHLXfAYI03k7oMWwwYgTdRTiOO5rxGxqJ3wg6TvIzVrbvHhfPaeS6MVt4R23MOEMejbOorbSaQGb67GLDjZ1oPp1Qm_2-U7UebEuLyev_AXlD0M7qsbsEHtf_I-F8Cr_wFb9JpVFoDanLCexpDuEAGCgHQiEy2A8q3ygTzFo07rFSQrndLqkcZMt9wnBahTAV4bMxv0wYvmzfjou1GZLehAzStOLtoMAPJNpC4JlKll7dN8fvGg12r2vCeLuz1j0FRgINmpEQ8WuCbpv8YEq3evdVe-0ixjd2ACAr-VE9GUQUMpRFgApT3i0HxP1I5aLCX46DlMb_mOZHkXIyKI5AybbiC3XcVPUtowpVXNrggA0G4mpNwP8ZZN-ZYwDAxyNIRKLAZcgvVQnEHlEwIHUb_Vz1uU-CfPnybMw3eyGcw1Td8v2X0jZgg8WjZXdeU6UleLSBNKhA../download\n",
            "Resolving public.boxcloud.com (public.boxcloud.com)... 107.152.25.200\n",
            "Connecting to public.boxcloud.com (public.boxcloud.com)|107.152.25.200|:443... connected.\n",
            "HTTP request sent, awaiting response... 200 OK\n",
            "Length: 2891 (2.8K) [text/csv]\n",
            "Saving to: ‘Geospatial_Coordinates.csv’\n",
            "\n",
            "Geospatial_Coordina 100%[===================>]   2.82K  --.-KB/s    in 0s      \n",
            "\n",
            "2019-08-06 00:03:01 (472 MB/s) - ‘Geospatial_Coordinates.csv’ saved [2891/2891]\n",
            "\n"
          ],
          "name": "stdout"
        }
      ]
    },
    {
      "cell_type": "code",
      "metadata": {
        "id": "9dwnvr44MOzR",
        "colab_type": "code",
        "colab": {
          "base_uri": "https://localhost:8080/",
          "height": 204
        },
        "outputId": "ad00fdb2-f0f7-4bf1-b9af-ab751843c255"
      },
      "source": [
        "location = pd.read_csv(\"Geospatial_Coordinates.csv\")\n",
        "location.head()"
      ],
      "execution_count": 27,
      "outputs": [
        {
          "output_type": "execute_result",
          "data": {
            "text/html": [
              "<div>\n",
              "<style scoped>\n",
              "    .dataframe tbody tr th:only-of-type {\n",
              "        vertical-align: middle;\n",
              "    }\n",
              "\n",
              "    .dataframe tbody tr th {\n",
              "        vertical-align: top;\n",
              "    }\n",
              "\n",
              "    .dataframe thead th {\n",
              "        text-align: right;\n",
              "    }\n",
              "</style>\n",
              "<table border=\"1\" class=\"dataframe\">\n",
              "  <thead>\n",
              "    <tr style=\"text-align: right;\">\n",
              "      <th></th>\n",
              "      <th>Postal Code</th>\n",
              "      <th>Latitude</th>\n",
              "      <th>Longitude</th>\n",
              "    </tr>\n",
              "  </thead>\n",
              "  <tbody>\n",
              "    <tr>\n",
              "      <th>0</th>\n",
              "      <td>M1B</td>\n",
              "      <td>43.806686</td>\n",
              "      <td>-79.194353</td>\n",
              "    </tr>\n",
              "    <tr>\n",
              "      <th>1</th>\n",
              "      <td>M1C</td>\n",
              "      <td>43.784535</td>\n",
              "      <td>-79.160497</td>\n",
              "    </tr>\n",
              "    <tr>\n",
              "      <th>2</th>\n",
              "      <td>M1E</td>\n",
              "      <td>43.763573</td>\n",
              "      <td>-79.188711</td>\n",
              "    </tr>\n",
              "    <tr>\n",
              "      <th>3</th>\n",
              "      <td>M1G</td>\n",
              "      <td>43.770992</td>\n",
              "      <td>-79.216917</td>\n",
              "    </tr>\n",
              "    <tr>\n",
              "      <th>4</th>\n",
              "      <td>M1H</td>\n",
              "      <td>43.773136</td>\n",
              "      <td>-79.239476</td>\n",
              "    </tr>\n",
              "  </tbody>\n",
              "</table>\n",
              "</div>"
            ],
            "text/plain": [
              "  Postal Code   Latitude  Longitude\n",
              "0         M1B  43.806686 -79.194353\n",
              "1         M1C  43.784535 -79.160497\n",
              "2         M1E  43.763573 -79.188711\n",
              "3         M1G  43.770992 -79.216917\n",
              "4         M1H  43.773136 -79.239476"
            ]
          },
          "metadata": {
            "tags": []
          },
          "execution_count": 27
        }
      ]
    },
    {
      "cell_type": "code",
      "metadata": {
        "id": "o3jFlydZMkV-",
        "colab_type": "code",
        "colab": {
          "base_uri": "https://localhost:8080/",
          "height": 204
        },
        "outputId": "2d3e6f87-fc40-4d09-db76-e18cf6b95979"
      },
      "source": [
        "location.rename(columns={'Postal Code':'PostalCode'}, inplace = True)\n",
        "location.head()"
      ],
      "execution_count": 30,
      "outputs": [
        {
          "output_type": "execute_result",
          "data": {
            "text/html": [
              "<div>\n",
              "<style scoped>\n",
              "    .dataframe tbody tr th:only-of-type {\n",
              "        vertical-align: middle;\n",
              "    }\n",
              "\n",
              "    .dataframe tbody tr th {\n",
              "        vertical-align: top;\n",
              "    }\n",
              "\n",
              "    .dataframe thead th {\n",
              "        text-align: right;\n",
              "    }\n",
              "</style>\n",
              "<table border=\"1\" class=\"dataframe\">\n",
              "  <thead>\n",
              "    <tr style=\"text-align: right;\">\n",
              "      <th></th>\n",
              "      <th>PostalCode</th>\n",
              "      <th>Latitude</th>\n",
              "      <th>Longitude</th>\n",
              "    </tr>\n",
              "  </thead>\n",
              "  <tbody>\n",
              "    <tr>\n",
              "      <th>0</th>\n",
              "      <td>M1B</td>\n",
              "      <td>43.806686</td>\n",
              "      <td>-79.194353</td>\n",
              "    </tr>\n",
              "    <tr>\n",
              "      <th>1</th>\n",
              "      <td>M1C</td>\n",
              "      <td>43.784535</td>\n",
              "      <td>-79.160497</td>\n",
              "    </tr>\n",
              "    <tr>\n",
              "      <th>2</th>\n",
              "      <td>M1E</td>\n",
              "      <td>43.763573</td>\n",
              "      <td>-79.188711</td>\n",
              "    </tr>\n",
              "    <tr>\n",
              "      <th>3</th>\n",
              "      <td>M1G</td>\n",
              "      <td>43.770992</td>\n",
              "      <td>-79.216917</td>\n",
              "    </tr>\n",
              "    <tr>\n",
              "      <th>4</th>\n",
              "      <td>M1H</td>\n",
              "      <td>43.773136</td>\n",
              "      <td>-79.239476</td>\n",
              "    </tr>\n",
              "  </tbody>\n",
              "</table>\n",
              "</div>"
            ],
            "text/plain": [
              "  PostalCode   Latitude  Longitude\n",
              "0        M1B  43.806686 -79.194353\n",
              "1        M1C  43.784535 -79.160497\n",
              "2        M1E  43.763573 -79.188711\n",
              "3        M1G  43.770992 -79.216917\n",
              "4        M1H  43.773136 -79.239476"
            ]
          },
          "metadata": {
            "tags": []
          },
          "execution_count": 30
        }
      ]
    },
    {
      "cell_type": "code",
      "metadata": {
        "id": "ItK7RAA9P-Hk",
        "colab_type": "code",
        "colab": {
          "base_uri": "https://localhost:8080/",
          "height": 204
        },
        "outputId": "c2325775-a5e2-46d6-8285-66d19e21b3a6"
      },
      "source": [
        "tor_location = tor_group.merge(location, on = 'PostalCode', how = 'left')\n",
        "tor_location.head()"
      ],
      "execution_count": 32,
      "outputs": [
        {
          "output_type": "execute_result",
          "data": {
            "text/html": [
              "<div>\n",
              "<style scoped>\n",
              "    .dataframe tbody tr th:only-of-type {\n",
              "        vertical-align: middle;\n",
              "    }\n",
              "\n",
              "    .dataframe tbody tr th {\n",
              "        vertical-align: top;\n",
              "    }\n",
              "\n",
              "    .dataframe thead th {\n",
              "        text-align: right;\n",
              "    }\n",
              "</style>\n",
              "<table border=\"1\" class=\"dataframe\">\n",
              "  <thead>\n",
              "    <tr style=\"text-align: right;\">\n",
              "      <th></th>\n",
              "      <th>PostalCode</th>\n",
              "      <th>Borough</th>\n",
              "      <th>Neighborhood</th>\n",
              "      <th>Latitude</th>\n",
              "      <th>Longitude</th>\n",
              "    </tr>\n",
              "  </thead>\n",
              "  <tbody>\n",
              "    <tr>\n",
              "      <th>0</th>\n",
              "      <td>M1B</td>\n",
              "      <td>Scarborough</td>\n",
              "      <td>Rouge,Malvern</td>\n",
              "      <td>43.806686</td>\n",
              "      <td>-79.194353</td>\n",
              "    </tr>\n",
              "    <tr>\n",
              "      <th>1</th>\n",
              "      <td>M1C</td>\n",
              "      <td>Scarborough</td>\n",
              "      <td>Highland Creek,Rouge Hill,Port Union</td>\n",
              "      <td>43.784535</td>\n",
              "      <td>-79.160497</td>\n",
              "    </tr>\n",
              "    <tr>\n",
              "      <th>2</th>\n",
              "      <td>M1E</td>\n",
              "      <td>Scarborough</td>\n",
              "      <td>Guildwood,Morningside,West Hill</td>\n",
              "      <td>43.763573</td>\n",
              "      <td>-79.188711</td>\n",
              "    </tr>\n",
              "    <tr>\n",
              "      <th>3</th>\n",
              "      <td>M1G</td>\n",
              "      <td>Scarborough</td>\n",
              "      <td>Woburn</td>\n",
              "      <td>43.770992</td>\n",
              "      <td>-79.216917</td>\n",
              "    </tr>\n",
              "    <tr>\n",
              "      <th>4</th>\n",
              "      <td>M1H</td>\n",
              "      <td>Scarborough</td>\n",
              "      <td>Cedarbrae</td>\n",
              "      <td>43.773136</td>\n",
              "      <td>-79.239476</td>\n",
              "    </tr>\n",
              "  </tbody>\n",
              "</table>\n",
              "</div>"
            ],
            "text/plain": [
              "  PostalCode      Borough  ...   Latitude  Longitude\n",
              "0        M1B  Scarborough  ...  43.806686 -79.194353\n",
              "1        M1C  Scarborough  ...  43.784535 -79.160497\n",
              "2        M1E  Scarborough  ...  43.763573 -79.188711\n",
              "3        M1G  Scarborough  ...  43.770992 -79.216917\n",
              "4        M1H  Scarborough  ...  43.773136 -79.239476\n",
              "\n",
              "[5 rows x 5 columns]"
            ]
          },
          "metadata": {
            "tags": []
          },
          "execution_count": 32
        }
      ]
    },
    {
      "cell_type": "code",
      "metadata": {
        "id": "ZbTEIoaNQmLg",
        "colab_type": "code",
        "colab": {
          "base_uri": "https://localhost:8080/",
          "height": 489
        },
        "outputId": "8d8d136e-9ef1-4805-a399-0d43822d83c1"
      },
      "source": [
        "columnname = ['PostalCode','Borough', 'Neighborhood', 'Latitude', 'Longitude']\n",
        "test_list = ['M5G','M2H', 'M4B', 'M1J', 'M4G', 'M4M', 'M1R','M9V','M9L','M5V','M1B', 'M5A']\n",
        "\n",
        "test_dd = pd.DataFrame(columns=columnname)\n",
        "\n",
        "for code in test_list:\n",
        "  test_dd = test_dd.append(tor_location[tor_location['PostalCode']==code], ignore_index = True)\n",
        "test_dd"
      ],
      "execution_count": 40,
      "outputs": [
        {
          "output_type": "execute_result",
          "data": {
            "text/html": [
              "<div>\n",
              "<style scoped>\n",
              "    .dataframe tbody tr th:only-of-type {\n",
              "        vertical-align: middle;\n",
              "    }\n",
              "\n",
              "    .dataframe tbody tr th {\n",
              "        vertical-align: top;\n",
              "    }\n",
              "\n",
              "    .dataframe thead th {\n",
              "        text-align: right;\n",
              "    }\n",
              "</style>\n",
              "<table border=\"1\" class=\"dataframe\">\n",
              "  <thead>\n",
              "    <tr style=\"text-align: right;\">\n",
              "      <th></th>\n",
              "      <th>PostalCode</th>\n",
              "      <th>Borough</th>\n",
              "      <th>Neighborhood</th>\n",
              "      <th>Latitude</th>\n",
              "      <th>Longitude</th>\n",
              "    </tr>\n",
              "  </thead>\n",
              "  <tbody>\n",
              "    <tr>\n",
              "      <th>0</th>\n",
              "      <td>M5G</td>\n",
              "      <td>Downtown Toronto</td>\n",
              "      <td>Central Bay Street</td>\n",
              "      <td>43.657952</td>\n",
              "      <td>-79.387383</td>\n",
              "    </tr>\n",
              "    <tr>\n",
              "      <th>1</th>\n",
              "      <td>M2H</td>\n",
              "      <td>North York</td>\n",
              "      <td>Hillcrest Village</td>\n",
              "      <td>43.803762</td>\n",
              "      <td>-79.363452</td>\n",
              "    </tr>\n",
              "    <tr>\n",
              "      <th>2</th>\n",
              "      <td>M4B</td>\n",
              "      <td>East York</td>\n",
              "      <td>Woodbine Gardens,Parkview Hill</td>\n",
              "      <td>43.706397</td>\n",
              "      <td>-79.309937</td>\n",
              "    </tr>\n",
              "    <tr>\n",
              "      <th>3</th>\n",
              "      <td>M1J</td>\n",
              "      <td>Scarborough</td>\n",
              "      <td>Scarborough Village</td>\n",
              "      <td>43.744734</td>\n",
              "      <td>-79.239476</td>\n",
              "    </tr>\n",
              "    <tr>\n",
              "      <th>4</th>\n",
              "      <td>M4G</td>\n",
              "      <td>East York</td>\n",
              "      <td>Leaside</td>\n",
              "      <td>43.709060</td>\n",
              "      <td>-79.363452</td>\n",
              "    </tr>\n",
              "    <tr>\n",
              "      <th>5</th>\n",
              "      <td>M4M</td>\n",
              "      <td>East Toronto</td>\n",
              "      <td>Studio District</td>\n",
              "      <td>43.659526</td>\n",
              "      <td>-79.340923</td>\n",
              "    </tr>\n",
              "    <tr>\n",
              "      <th>6</th>\n",
              "      <td>M1R</td>\n",
              "      <td>Scarborough</td>\n",
              "      <td>Maryvale,Wexford</td>\n",
              "      <td>43.750072</td>\n",
              "      <td>-79.295849</td>\n",
              "    </tr>\n",
              "    <tr>\n",
              "      <th>7</th>\n",
              "      <td>M9V</td>\n",
              "      <td>Etobicoke</td>\n",
              "      <td>Albion Gardens,Beaumond Heights,Humbergate,Jam...</td>\n",
              "      <td>43.739416</td>\n",
              "      <td>-79.588437</td>\n",
              "    </tr>\n",
              "    <tr>\n",
              "      <th>8</th>\n",
              "      <td>M9L</td>\n",
              "      <td>North York</td>\n",
              "      <td>Humber Summit</td>\n",
              "      <td>43.756303</td>\n",
              "      <td>-79.565963</td>\n",
              "    </tr>\n",
              "    <tr>\n",
              "      <th>9</th>\n",
              "      <td>M5V</td>\n",
              "      <td>Downtown Toronto</td>\n",
              "      <td>CN Tower,Bathurst Quay,Island airport,Harbourf...</td>\n",
              "      <td>43.628947</td>\n",
              "      <td>-79.394420</td>\n",
              "    </tr>\n",
              "    <tr>\n",
              "      <th>10</th>\n",
              "      <td>M1B</td>\n",
              "      <td>Scarborough</td>\n",
              "      <td>Rouge,Malvern</td>\n",
              "      <td>43.806686</td>\n",
              "      <td>-79.194353</td>\n",
              "    </tr>\n",
              "    <tr>\n",
              "      <th>11</th>\n",
              "      <td>M5A</td>\n",
              "      <td>Downtown Toronto</td>\n",
              "      <td>Harbourfront,Regent Park</td>\n",
              "      <td>43.654260</td>\n",
              "      <td>-79.360636</td>\n",
              "    </tr>\n",
              "  </tbody>\n",
              "</table>\n",
              "</div>"
            ],
            "text/plain": [
              "   PostalCode           Borough  ...   Latitude  Longitude\n",
              "0         M5G  Downtown Toronto  ...  43.657952 -79.387383\n",
              "1         M2H        North York  ...  43.803762 -79.363452\n",
              "2         M4B         East York  ...  43.706397 -79.309937\n",
              "3         M1J       Scarborough  ...  43.744734 -79.239476\n",
              "4         M4G         East York  ...  43.709060 -79.363452\n",
              "5         M4M      East Toronto  ...  43.659526 -79.340923\n",
              "6         M1R       Scarborough  ...  43.750072 -79.295849\n",
              "7         M9V         Etobicoke  ...  43.739416 -79.588437\n",
              "8         M9L        North York  ...  43.756303 -79.565963\n",
              "9         M5V  Downtown Toronto  ...  43.628947 -79.394420\n",
              "10        M1B       Scarborough  ...  43.806686 -79.194353\n",
              "11        M5A  Downtown Toronto  ...  43.654260 -79.360636\n",
              "\n",
              "[12 rows x 5 columns]"
            ]
          },
          "metadata": {
            "tags": []
          },
          "execution_count": 40
        }
      ]
    },
    {
      "cell_type": "code",
      "metadata": {
        "id": "mZNLrlulSCAJ",
        "colab_type": "code",
        "colab": {}
      },
      "source": [
        ""
      ],
      "execution_count": 0,
      "outputs": []
    }
  ]
}